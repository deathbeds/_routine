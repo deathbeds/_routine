{
 "cells": [
  {
   "cell_type": "code",
   "execution_count": null,
   "metadata": {},
   "outputs": [],
   "source": [
    "from pathlib import Path\n",
    "import setuptools\n",
    "\n",
    "\n",
    "package_name = \"COROUTINE\"\n",
    "name = '_routine'\n",
    "\n",
    "__version__ = None"
   ]
  },
  {
   "cell_type": "code",
   "execution_count": null,
   "metadata": {},
   "outputs": [],
   "source": [
    "file = Path(globals().get('__file__', 'setup.py'))"
   ]
  },
  {
   "cell_type": "code",
   "execution_count": null,
   "metadata": {},
   "outputs": [
    {
     "name": "stdout",
     "output_type": "stream",
     "text": [
      "{'': 'src', '_routine': 'src/_routine', '_routine.conda_history': 'src/9bc79ddb7200e77394f546bc69e11c6f', '_routine.import_dependent_type_coercion': 'src/c852b9eb1783f02ccd96a35c73d465be'}\n"
     ]
    }
   ],
   "source": [
    "package_dir = {\n",
    "    '': str(file.parent / 'src' ),\n",
    "}"
   ]
  },
  {
   "cell_type": "raw",
   "metadata": {},
   "source": [
    "__name__ == '__main__' and setuptools.setup(\n",
    "    name=package_name,\n",
    "    version='0.1.0',\n",
    "    author=\"deathbeds\",\n",
    "    author_email=\"tony.fast@gmail.com\",\n",
    "    description=\"A decentralized approach to blogging, testing, and documentation.\",\n",
    "    url=\"https://github.com/deathbeds/_routine\",\n",
    "    python_requires=\">=3.6\",\n",
    "    license=\"BSD-3-Clause\",\n",
    "    setup_requires=['pytest-runner'],\n",
    "    tests_require=['pytest', \"hypothesis\", 'nbval'],\n",
    "    install_requires=[],\n",
    "    include_package_data=True,\n",
    "    packages = list(filter(bool, package_dir)),\n",
    "    package_dir=package_dir,\n",
    "    entry_points = {'pytest11': []},\n",
    "    classifiers=(\n",
    "        \"Development Status :: 4 - Beta\",\n",
    "        \"Framework :: IPython\",\n",
    "        \"Framework :: Jupyter\",\n",
    "        \"Intended Audience :: Developers\",\n",
    "        \"Natural Language :: English\",\n",
    "        \"License :: OSI Approved :: BSD License\",\n",
    "        \"Programming Language :: Python\",\"Programming Language :: Python :: 3.6\",),\n",
    "    zip_safe=False,\n",
    ")"
   ]
  },
  {
   "cell_type": "code",
   "execution_count": 1,
   "metadata": {},
   "outputs": [
    {
     "name": "stdout",
     "output_type": "stream",
     "text": [
      "[NbConvertApp] Converting notebook setup.ipynb to python\n",
      "[NbConvertApp] Writing 1403 bytes to setup.py\n",
      "\u001b[1mreformatted setup.py\u001b[0m\n",
      "\u001b[1mAll done! ✨ 🍰 ✨\u001b[0m\n",
      "\u001b[1m1 file reformatted\u001b[0m.\u001b[0m\n",
      "Fixing /Users/tonyfast/_routine/setup.py\n",
      "running develop\n",
      "running egg_info\n",
      "writing src/COROUTINE.egg-info/PKG-INFO\n",
      "writing dependency_links to src/COROUTINE.egg-info/dependency_links.txt\n",
      "writing entry points to src/COROUTINE.egg-info/entry_points.txt\n",
      "writing top-level names to src/COROUTINE.egg-info/top_level.txt\n",
      "reading manifest file 'src/COROUTINE.egg-info/SOURCES.txt'\n",
      "reading manifest template 'MANIFEST.in'\n",
      "writing manifest file 'src/COROUTINE.egg-info/SOURCES.txt'\n",
      "running build_ext\n",
      "Creating /Users/tonyfast/anaconda/envs/p6/lib/python3.6/site-packages/COROUTINE.egg-link (link to src)\n",
      "COROUTINE 0.1.0 is already the active version in easy-install.pth\n",
      "\n",
      "Installed /Users/tonyfast/_routine/src\n",
      "Processing dependencies for COROUTINE==0.1.0\n",
      "Finished processing dependencies for COROUTINE==0.1.0\n"
     ]
    }
   ],
   "source": [
    "!jupyter nbconvert --to python --TemplateExporter.exclude_input_prompt=True setup.ipynb\n",
    "!black setup.py\n",
    "!isort setup.py\n",
    "!source activate p6 && python setup.py develop\n"
   ]
  },
  {
   "cell_type": "code",
   "execution_count": 1,
   "metadata": {},
   "outputs": [],
   "source": [
    "    import _routine"
   ]
  }
 ],
 "metadata": {
  "kernelspec": {
   "display_name": "p6",
   "language": "python",
   "name": "p6"
  },
  "language_info": {
   "codemirror_mode": {
    "name": "ipython",
    "version": 3
   },
   "file_extension": ".py",
   "mimetype": "text/x-python",
   "name": "python",
   "nbconvert_exporter": "python",
   "pygments_lexer": "ipython3",
   "version": "3.6.8"
  }
 },
 "nbformat": 4,
 "nbformat_minor": 4
}
