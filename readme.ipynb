{
 "cells": [
  {
   "cell_type": "code",
   "execution_count": null,
   "metadata": {},
   "outputs": [],
   "source": [
    "    "
   ]
  },
  {
   "cell_type": "code",
   "execution_count": 3,
   "metadata": {},
   "outputs": [],
   "source": [
    "from pathlib import Path\n",
    "import setuptools\n",
    "\n",
    "name = \"_routine\"\n",
    "\n",
    "__version__ = None\n",
    "\n",
    "file = __import__('pathlib').Path('2019-06-06-Untitled.ipynb')"
   ]
  },
  {
   "cell_type": "code",
   "execution_count": 14,
   "metadata": {},
   "outputs": [],
   "source": [
    "    articles = {}\n",
    "    for directory in list(filter(Path.is_dir, file.parent.glob('[!.]*'))):\n",
    "        article = next(directory.glob('*.ipynb'))\n",
    "        articles[article.stem] = article.parent"
   ]
  },
  {
   "cell_type": "code",
   "execution_count": 17,
   "metadata": {},
   "outputs": [
    {
     "data": {
      "text/plain": [
       "'conda_history'"
      ]
     },
     "execution_count": 17,
     "metadata": {},
     "output_type": "execute_result"
    }
   ],
   "source": [
    "    "
   ]
  },
  {
   "cell_type": "code",
   "execution_count": null,
   "metadata": {},
   "outputs": [],
   "source": [
    "    "
   ]
  },
  {
   "cell_type": "code",
   "execution_count": 1,
   "metadata": {},
   "outputs": [],
   "source": [
    "setup_args = dict(\n",
    "    name=name,\n",
    "    version='0.0.0',\n",
    "    author=\"deathbeds\",\n",
    "    author_email=\"tony.fast@gmail.com\",\n",
    "    description=\"A decentralized approach to blogging, testing, and documentation.\",\n",
    "    url=\"https://github.com/deathbeds/_routine\",\n",
    "    python_requires=\">=3.6\",\n",
    "    license=\"BSD-3-Clause\",\n",
    "    setup_requires=['pytest-runner'],\n",
    "    tests_require=['pytest', \"hypothesis\", 'nbval'],\n",
    "    install_requires=[],\n",
    "    include_package_data=True,\n",
    "    py_modules=['pidgin'],\n",
    "    packages = {\n",
    "        \n",
    "    },\n",
    "    #packages=setuptools.find_packages(where='src'),\n",
    "    #package_dir={'':'src',},\n",
    "    entry_points = {\n",
    "        'pytest11': [],\n",
    "    },\n",
    "    classifiers=(\n",
    "        \"Development Status :: 4 - Beta\",\n",
    "        \"Framework :: IPython\",\n",
    "        \"Framework :: Jupyter\",\n",
    "        \"Intended Audience :: Developers\",\n",
    "        \"Natural Language :: English\",\n",
    "        \"License :: OSI Approved :: BSD License\",\n",
    "        \"Programming Language :: Python\",\"Programming Language :: Python :: 3.6\",),\n",
    "    zip_safe=False,\n",
    ")\n",
    "\n",
    "if __name__ == \"__main__\":\n",
    "    setuptools.setup(**setup_args)"
   ]
  },
  {
   "cell_type": "code",
   "execution_count": null,
   "metadata": {},
   "outputs": [],
   "source": []
  }
 ],
 "metadata": {
  "kernelspec": {
   "display_name": "p6",
   "language": "python",
   "name": "p6"
  },
  "language_info": {
   "codemirror_mode": {
    "name": "ipython",
    "version": 3
   },
   "file_extension": ".py",
   "mimetype": "text/x-python",
   "name": "python",
   "nbconvert_exporter": "python",
   "pygments_lexer": "ipython3",
   "version": "3.6.8"
  }
 },
 "nbformat": 4,
 "nbformat_minor": 4
}
