{
 "cells": [
  {
   "cell_type": "markdown",
   "metadata": {},
   "source": [
    "    !ipython -m _routine -- add 9bc79ddb7200e77394f546bc69e11c6f\n",
    "    !ipython -m _routine -- update\n",
    "    !ipython -m _routine -- update --id 9bc79ddb7200e77394f546bc69e11c6f"
   ]
  },
  {
   "cell_type": "code",
   "execution_count": null,
   "metadata": {},
   "outputs": [],
   "source": [
    "    import click; from IPython import get_ipython"
   ]
  },
  {
   "cell_type": "code",
   "execution_count": null,
   "metadata": {},
   "outputs": [],
   "source": [
    "    @click.group()\n",
    "    def main():\n",
    "        pass\n",
    "\n",
    "    @main.add_command\n",
    "    @click.command(help=\"A valid gist sha. Run this where the repository is\")\n",
    "    @click.argument('id')\n",
    "    def add(id):\n",
    "        package, conda = __package__, __import__('os').environ['CONDA_PREFIX']\n",
    "        !source activate $conda && git submodule add https://gist.github.com/$id src/$package/$id\n",
    "\n",
    "    @main.add_command\n",
    "    @click.command(help=\"A valid gist sha. Run this where the repository is\")\n",
    "    @click.option('--id', default=None)\n",
    "    def update(id):\n",
    "        package, conda = __package__, __import__('os').environ['CONDA_PREFIX']\n",
    "        if id:\n",
    "            !source activate $conda && git submodule update src/$package/$id\n",
    "        else:\n",
    "            !source activate $conda && git submodule update --recursive"
   ]
  },
  {
   "cell_type": "code",
   "execution_count": null,
   "metadata": {},
   "outputs": [],
   "source": [
    "    if __name__ == '__main__':\n",
    "        if __import__('sys').argv[0] == __import__('ipykernel_launcher').__file__:\n",
    "            !jupyter nbconvert --to python --TemplateExporter.exclude_input_prompt=True __main__.ipynb && black __main__.py && isort __main__.py        \n",
    "        else:\n",
    "            main()\n",
    "        "
   ]
  },
  {
   "cell_type": "code",
   "execution_count": null,
   "metadata": {},
   "outputs": [],
   "source": []
  }
 ],
 "metadata": {
  "kernelspec": {
   "display_name": "p6",
   "language": "python",
   "name": "p6"
  },
  "language_info": {
   "codemirror_mode": {
    "name": "ipython",
    "version": 3
   },
   "file_extension": ".py",
   "mimetype": "text/x-python",
   "name": "python",
   "nbconvert_exporter": "python",
   "pygments_lexer": "ipython3",
   "version": "3.6.8"
  }
 },
 "nbformat": 4,
 "nbformat_minor": 4
}
