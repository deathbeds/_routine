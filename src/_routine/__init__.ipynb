{
 "cells": [
  {
   "cell_type": "code",
   "execution_count": 1,
   "metadata": {},
   "outputs": [],
   "source": [
    "    __file__ = __import__('pathlib').Path(globals().get('__file__', '__init__.ipynb'))"
   ]
  },
  {
   "cell_type": "code",
   "execution_count": 2,
   "metadata": {},
   "outputs": [
    {
     "data": {
      "text/plain": [
       "('conda_history', 'import_dependent_type_coercion')"
      ]
     },
     "execution_count": 2,
     "metadata": {},
     "output_type": "execute_result"
    }
   ],
   "source": [
    "    __all__ = tuple()\n",
    "    for notebook in __file__.parent.glob('*/[!_]*.ipynb'):\n",
    "        name = notebook.stem.split('.',1)[0]\n",
    "        with __import__('pidgin').PidginLoader(lazy=True), __import__('importnb').Notebook(lazy=True):\n",
    "            globals()[name] = __import__('importlib').import_module('.'.join(notebook.parent.parts[-2:] + (name,)))\n",
    "\n",
    "        __all__ += name,\n",
    "    __all__"
   ]
  },
  {
   "cell_type": "code",
   "execution_count": 3,
   "metadata": {},
   "outputs": [
    {
     "name": "stdout",
     "output_type": "stream",
     "text": [
      "[NbConvertApp] Converting notebook __init__.ipynb to python\n",
      "[NbConvertApp] Writing 729 bytes to __init__.py\n",
      "\u001b[1mreformatted __init__.py\u001b[0m\n",
      "\u001b[1mAll done! ✨ 🍰 ✨\u001b[0m\n",
      "\u001b[1m1 file reformatted\u001b[0m.\u001b[0m\n"
     ]
    }
   ],
   "source": [
    "    if __name__ == '__main__':\n",
    "        !jupyter nbconvert --to python --TemplateExporter.exclude_input_prompt=True __init__.ipynb\n",
    "        !black __init__.py\n",
    "        !isort __init__.py\n",
    "        \n",
    "        "
   ]
  }
 ],
 "metadata": {
  "kernelspec": {
   "display_name": "p6",
   "language": "python",
   "name": "p6"
  },
  "language_info": {
   "codemirror_mode": {
    "name": "ipython",
    "version": 3
   },
   "file_extension": ".py",
   "mimetype": "text/x-python",
   "name": "python",
   "nbconvert_exporter": "python",
   "pygments_lexer": "ipython3",
   "version": "3.6.8"
  }
 },
 "nbformat": 4,
 "nbformat_minor": 4
}
